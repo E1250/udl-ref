{
  "nbformat": 4,
  "nbformat_minor": 0,
  "metadata": {
    "colab": {
      "provenance": [],
      "include_colab_link": true
    },
    "kernelspec": {
      "name": "python3",
      "display_name": "Python 3"
    },
    "language_info": {
      "name": "python"
    }
  },
  "cells": [
    {
      "cell_type": "markdown",
      "metadata": {
        "id": "view-in-github",
        "colab_type": "text"
      },
      "source": [
        "<a href=\"https://colab.research.google.com/github/E1250/udl-ref/blob/main/ch10/10_2_Convolution_for_MNIST_1D.ipynb\" target=\"_parent\"><img src=\"https://colab.research.google.com/assets/colab-badge.svg\" alt=\"Open In Colab\"/></a>"
      ]
    },
    {
      "cell_type": "markdown",
      "source": [
        "# **Notebook 10.2: Convolution for MNIST-1D**\n",
        "\n",
        "This notebook investigates a 1D convolutional network for MNIST-1D as in figure 10.7 and 10.8a.\n",
        "\n",
        "Work through the cells below, running each cell in turn. In various places you will see the words \"TO DO\". Follow the instructions at these places and make predictions about what is going to happen or write code to complete the functions.\n",
        "\n",
        "Contact me at udlbookmail@gmail.com if you find any mistakes or have any suggestions.\n",
        "\n"
      ],
      "metadata": {
        "id": "t9vk9Elugvmi"
      }
    },
    {
      "cell_type": "code",
      "source": [
        "# Run this if you're in a Colab to install MNIST 1D repository\n",
        "!pip install git+https://github.com/greydanus/mnist1d"
      ],
      "metadata": {
        "id": "D5yLObtZCi9J"
      },
      "execution_count": null,
      "outputs": []
    },
    {
      "cell_type": "code",
      "source": [
        "import numpy as np\n",
        "import os\n",
        "import torch, torch.nn as nn\n",
        "from torch.utils.data import TensorDataset, DataLoader\n",
        "from torch.optim.lr_scheduler import StepLR\n",
        "import matplotlib.pyplot as plt\n",
        "import mnist1d\n",
        "import random"
      ],
      "metadata": {
        "id": "YrXWAH7sUWvU"
      },
      "execution_count": 2,
      "outputs": []
    },
    {
      "cell_type": "code",
      "source": [
        "args = mnist1d.data.get_dataset_args()\n",
        "data = mnist1d.data.get_dataset(args, path='./mnist1d_data.pkl', download=False, regenerate=False)\n",
        "\n",
        "# The training and test input and outputs are in\n",
        "# data['x'], data['y'], data['x_test'], and data['y_test']\n",
        "print(\"Examples in training set: {}\".format(len(data['y'])))\n",
        "print(\"Examples in test set: {}\".format(len(data['y_test'])))\n",
        "print(\"Length of each example: {}\".format(data['x'].shape[-1]))"
      ],
      "metadata": {
        "id": "twI72ZCrCt5z",
        "outputId": "b7fdf545-94cd-4d57-fd28-89fe74d58cef",
        "colab": {
          "base_uri": "https://localhost:8080/"
        }
      },
      "execution_count": 3,
      "outputs": [
        {
          "output_type": "stream",
          "name": "stdout",
          "text": [
            "Did or could not load data from ./mnist1d_data.pkl. Rebuilding dataset...\n",
            "Examples in training set: 4000\n",
            "Examples in test set: 1000\n",
            "Length of each example: 40\n"
          ]
        }
      ]
    },
    {
      "cell_type": "code",
      "source": [
        "# Load in the data\n",
        "train_data_x = data['x'].transpose()\n",
        "train_data_y = data['y']\n",
        "val_data_x = data['x_test'].transpose()\n",
        "val_data_y = data['y_test']\n",
        "# Print out sizes\n",
        "print(\"Train data: %d examples (columns), each of which has %d dimensions (rows)\"%((train_data_x.shape[1],train_data_x.shape[0])))\n",
        "print(\"Validation data: %d examples (columns), each of which has %d dimensions (rows)\"%((val_data_x.shape[1],val_data_x.shape[0])))"
      ],
      "metadata": {
        "id": "8bKADvLHbiV5",
        "outputId": "f655934d-0b1f-4142-ce9b-9ad65f5afb90",
        "colab": {
          "base_uri": "https://localhost:8080/"
        }
      },
      "execution_count": 4,
      "outputs": [
        {
          "output_type": "stream",
          "name": "stdout",
          "text": [
            "Train data: 4000 examples (columns), each of which has 40 dimensions (rows)\n",
            "Validation data: 1000 examples (columns), each of which has 40 dimensions (rows)\n"
          ]
        }
      ]
    },
    {
      "cell_type": "markdown",
      "source": [
        "Define the network"
      ],
      "metadata": {
        "id": "_sFvRDGrl4qe"
      }
    },
    {
      "cell_type": "markdown",
      "source": [
        "References:\n",
        "Provided with the notebook.\n",
        "* https://pytorch.org/docs/1.13/generated/torch.nn.Conv1d.html?highlight=conv1d#torch.nn.Conv1d\n",
        "* https://pytorch.org/docs/stable/generated/torch.nn.Flatten.html\n",
        "* https://pytorch.org/docs/1.13/generated/torch.nn.Linear.html?highlight=linear#torch.nn.Linear"
      ],
      "metadata": {
        "id": "z-keNOvTdjMl"
      }
    },
    {
      "cell_type": "code",
      "source": [
        "# There are 40 input dimensions and 10 output dimensions for this data\n",
        "# The inputs correspond to the 40 offsets in the MNIST1D template.\n",
        "D_i = 40\n",
        "# The outputs correspond to the 10 digits\n",
        "D_o = 10\n",
        "\n",
        "# TODO Create a model with the following layers\n",
        "# 1. Convolutional layer, (input=length 40 and 1 channel, kernel size 3, stride 2, padding=\"valid\", 15 output channels )\n",
        "# 2. ReLU\n",
        "# 3. Convolutional layer, (input=length 19 and 15 channels, kernel size 3, stride 2, padding=\"valid\", 15 output channels )\n",
        "# 4. ReLU\n",
        "# 5. Convolutional layer, (input=length 9 and 15 channels, kernel size 3, stride 2, padding=\"valid\", 15 output channels)\n",
        "# 6. ReLU\n",
        "# 7. Flatten (converts 4x15) to length 60\n",
        "# 8. Linear layer (input size = 60, output size = 10)\n",
        "\n",
        "\n",
        "# NOTE THAT THE CONVOLUTIONAL LAYERS NEED TO TAKE THE NUMBER OF INPUT CHANNELS AS A PARAMETER\n",
        "# AND NOT THE INPUT SIZE.\n",
        "\n",
        "# Replace the following function:\n",
        "model = nn.Sequential(\n",
        "    nn.Conv1d(in_channels = 1, out_channels = 15, kernel_size=3, stride = 2, padding = 'valid'),\n",
        "    nn.ReLU(),\n",
        "    nn.Conv1d(in_channels = 15, out_channels = 15, kernel_size=3, stride = 2, padding = 'valid'),\n",
        "    nn.ReLU(),\n",
        "    nn.Conv1d(in_channels = 15, out_channels = 15, kernel_size=3, stride = 2, padding = 'valid'),\n",
        "    nn.ReLU(),\n",
        "    nn.Flatten(), # 4 * 15 = 60\n",
        "    nn.Linear(60, 10),\n",
        "    )"
      ],
      "metadata": {
        "id": "FslroPJJffrh"
      },
      "execution_count": 29,
      "outputs": []
    },
    {
      "cell_type": "code",
      "source": [
        "# The initialization of weights\n",
        "def weights_init(layer_in):\n",
        "  if isinstance(layer_in, nn.Linear):\n",
        "    nn.init.kaiming_uniform_(layer_in.weight)\n",
        "    layer_in.bias.data.fill_(0.0)"
      ],
      "metadata": {
        "id": "YgLaex1pfhqz"
      },
      "execution_count": 30,
      "outputs": []
    },
    {
      "cell_type": "code",
      "source": [
        "# choose cross entropy loss function (equation 5.24 in the loss notes)\n",
        "loss_function = nn.CrossEntropyLoss()\n",
        "# construct SGD optimizer and initialize learning rate and momentum\n",
        "optimizer = torch.optim.SGD(model.parameters(), lr = 0.05, momentum=0.9)\n",
        "# object that decreases learning rate by half every 20 epochs\n",
        "scheduler = StepLR(optimizer, step_size=20, gamma=0.5)\n",
        "# create 100 dummy data points and store in data loader class\n",
        "x_train = torch.tensor(train_data_x.transpose().astype('float32'))\n",
        "y_train = torch.tensor(train_data_y.astype('long')).long()\n",
        "x_val= torch.tensor(val_data_x.transpose().astype('float32'))\n",
        "y_val = torch.tensor(val_data_y.astype('long')).long()\n",
        "\n",
        "# load the data into a class that creates the batches\n",
        "data_loader = DataLoader(TensorDataset(x_train,y_train), batch_size=100, shuffle=True, worker_init_fn=np.random.seed(1))\n",
        "\n",
        "# Initialize model weights\n",
        "model.apply(weights_init)\n",
        "\n",
        "# loop over the dataset n_epoch times\n",
        "n_epoch = 100\n",
        "# store the loss and the % correct at each epoch\n",
        "losses_train = np.zeros((n_epoch))\n",
        "errors_train = np.zeros((n_epoch))\n",
        "losses_val = np.zeros((n_epoch))\n",
        "errors_val = np.zeros((n_epoch))\n",
        "\n",
        "for epoch in range(n_epoch):\n",
        "  # loop over batches\n",
        "  for i, data in enumerate(data_loader):\n",
        "    # retrieve inputs and labels for this batch\n",
        "    x_batch, y_batch = data\n",
        "    # zero the parameter gradients\n",
        "    optimizer.zero_grad()\n",
        "    # forward pass -- calculate model output\n",
        "    pred = model(x_batch[:,None,:])\n",
        "    # compute the loss\n",
        "    loss = loss_function(pred, y_batch)\n",
        "    # backward pass\n",
        "    loss.backward()\n",
        "    # SGD update\n",
        "    optimizer.step()\n",
        "\n",
        "  # Run whole dataset to get statistics -- normally wouldn't do this\n",
        "  pred_train = model(x_train[:,None,:])\n",
        "  pred_val = model(x_val[:,None,:])\n",
        "  _, predicted_train_class = torch.max(pred_train.data, 1)\n",
        "  _, predicted_val_class = torch.max(pred_val.data, 1)\n",
        "  errors_train[epoch] = 100 - 100 * (predicted_train_class == y_train).float().sum() / len(y_train)\n",
        "  errors_val[epoch]= 100 - 100 * (predicted_val_class == y_val).float().sum() / len(y_val)\n",
        "  losses_train[epoch] = loss_function(pred_train, y_train).item()\n",
        "  losses_val[epoch]= loss_function(pred_val, y_val).item()\n",
        "  print(f'Epoch {epoch:5d}, train loss {losses_train[epoch]:.6f}, train error {errors_train[epoch]:3.2f},  val loss {losses_val[epoch]:.6f}, percent error {errors_val[epoch]:3.2f}')\n",
        "\n",
        "  # tell scheduler to consider updating learning rate\n",
        "  scheduler.step()\n",
        "\n",
        "# Plot the results\n",
        "fig, ax = plt.subplots()\n",
        "ax.plot(errors_train,'r-',label='train')\n",
        "ax.plot(errors_val,'b-',label='validation')\n",
        "ax.set_ylim(0,100); ax.set_xlim(0,n_epoch)\n",
        "ax.set_xlabel('Epoch'); ax.set_ylabel('Error')\n",
        "ax.set_title('Part I: Validation Result %3.2f'%(errors_val[-1]))\n",
        "ax.legend()\n",
        "plt.show()"
      ],
      "metadata": {
        "id": "NYw8I_3mmX5c",
        "outputId": "dc7e6761-febd-4dc3-f079-1627c52a0070",
        "colab": {
          "base_uri": "https://localhost:8080/",
          "height": 1000
        }
      },
      "execution_count": 31,
      "outputs": [
        {
          "output_type": "stream",
          "name": "stdout",
          "text": [
            "Epoch     0, train loss 2.035032, train error 75.10,  val loss 2.037993, percent error 75.20\n",
            "Epoch     1, train loss 1.623048, train error 64.45,  val loss 1.637788, percent error 68.00\n",
            "Epoch     2, train loss 1.406669, train error 57.25,  val loss 1.410588, percent error 60.20\n",
            "Epoch     3, train loss 1.350732, train error 56.60,  val loss 1.367523, percent error 58.90\n",
            "Epoch     4, train loss 1.262847, train error 50.38,  val loss 1.289332, percent error 52.90\n",
            "Epoch     5, train loss 1.110776, train error 43.58,  val loss 1.138864, percent error 46.20\n",
            "Epoch     6, train loss 1.015993, train error 42.17,  val loss 1.072405, percent error 44.70\n",
            "Epoch     7, train loss 0.954762, train error 37.30,  val loss 1.015506, percent error 39.20\n",
            "Epoch     8, train loss 1.000906, train error 38.85,  val loss 1.066908, percent error 39.80\n",
            "Epoch     9, train loss 0.800860, train error 30.22,  val loss 0.861779, percent error 31.70\n",
            "Epoch    10, train loss 0.687508, train error 26.78,  val loss 0.746505, percent error 29.40\n",
            "Epoch    11, train loss 0.713051, train error 27.78,  val loss 0.772699, percent error 28.40\n",
            "Epoch    12, train loss 0.647705, train error 24.43,  val loss 0.734742, percent error 28.30\n",
            "Epoch    13, train loss 0.546897, train error 20.85,  val loss 0.630225, percent error 24.20\n",
            "Epoch    14, train loss 0.570487, train error 21.90,  val loss 0.641225, percent error 24.20\n",
            "Epoch    15, train loss 0.536948, train error 20.43,  val loss 0.630480, percent error 22.20\n",
            "Epoch    16, train loss 0.455231, train error 17.20,  val loss 0.568091, percent error 20.20\n",
            "Epoch    17, train loss 0.412965, train error 15.72,  val loss 0.527205, percent error 19.40\n",
            "Epoch    18, train loss 0.386485, train error 13.95,  val loss 0.512625, percent error 17.10\n",
            "Epoch    19, train loss 0.378214, train error 13.32,  val loss 0.511133, percent error 15.90\n",
            "Epoch    20, train loss 0.243668, train error 8.35,  val loss 0.391239, percent error 12.50\n",
            "Epoch    21, train loss 0.207433, train error 6.88,  val loss 0.376772, percent error 12.10\n",
            "Epoch    22, train loss 0.184706, train error 6.10,  val loss 0.362368, percent error 11.30\n",
            "Epoch    23, train loss 0.179977, train error 6.07,  val loss 0.365083, percent error 10.70\n",
            "Epoch    24, train loss 0.201796, train error 7.15,  val loss 0.386432, percent error 12.00\n",
            "Epoch    25, train loss 0.207184, train error 7.10,  val loss 0.403717, percent error 12.30\n",
            "Epoch    26, train loss 0.185944, train error 6.32,  val loss 0.389327, percent error 10.60\n",
            "Epoch    27, train loss 0.139811, train error 4.47,  val loss 0.327320, percent error 9.40\n",
            "Epoch    28, train loss 0.141927, train error 4.57,  val loss 0.334815, percent error 10.40\n",
            "Epoch    29, train loss 0.128551, train error 4.55,  val loss 0.326672, percent error 8.80\n",
            "Epoch    30, train loss 0.132147, train error 4.72,  val loss 0.345184, percent error 9.30\n",
            "Epoch    31, train loss 0.132591, train error 4.65,  val loss 0.329816, percent error 8.70\n",
            "Epoch    32, train loss 0.149267, train error 5.40,  val loss 0.350633, percent error 9.70\n",
            "Epoch    33, train loss 0.124271, train error 4.40,  val loss 0.356080, percent error 9.40\n",
            "Epoch    34, train loss 0.123576, train error 4.28,  val loss 0.369567, percent error 9.30\n",
            "Epoch    35, train loss 0.112412, train error 3.70,  val loss 0.360529, percent error 9.10\n",
            "Epoch    36, train loss 0.102878, train error 3.53,  val loss 0.369779, percent error 9.50\n",
            "Epoch    37, train loss 0.090404, train error 3.00,  val loss 0.344199, percent error 8.20\n",
            "Epoch    38, train loss 0.099778, train error 3.20,  val loss 0.358475, percent error 8.90\n",
            "Epoch    39, train loss 0.092451, train error 3.25,  val loss 0.347170, percent error 9.70\n",
            "Epoch    40, train loss 0.071875, train error 1.93,  val loss 0.331398, percent error 8.80\n",
            "Epoch    41, train loss 0.063395, train error 1.75,  val loss 0.330300, percent error 8.50\n",
            "Epoch    42, train loss 0.063579, train error 1.68,  val loss 0.332153, percent error 8.20\n",
            "Epoch    43, train loss 0.062383, train error 1.70,  val loss 0.349113, percent error 8.70\n",
            "Epoch    44, train loss 0.065681, train error 1.95,  val loss 0.349191, percent error 8.70\n",
            "Epoch    45, train loss 0.067698, train error 2.00,  val loss 0.361712, percent error 9.10\n",
            "Epoch    46, train loss 0.056364, train error 1.53,  val loss 0.350334, percent error 8.10\n",
            "Epoch    47, train loss 0.060010, train error 1.68,  val loss 0.352800, percent error 8.10\n",
            "Epoch    48, train loss 0.052977, train error 1.15,  val loss 0.348903, percent error 8.60\n",
            "Epoch    49, train loss 0.055100, train error 1.53,  val loss 0.358988, percent error 8.40\n",
            "Epoch    50, train loss 0.050902, train error 1.25,  val loss 0.356255, percent error 8.40\n",
            "Epoch    51, train loss 0.051031, train error 1.10,  val loss 0.362519, percent error 8.40\n",
            "Epoch    52, train loss 0.057210, train error 1.65,  val loss 0.371679, percent error 9.00\n",
            "Epoch    53, train loss 0.051125, train error 1.35,  val loss 0.375254, percent error 9.10\n",
            "Epoch    54, train loss 0.048434, train error 1.18,  val loss 0.356534, percent error 8.30\n",
            "Epoch    55, train loss 0.049298, train error 1.15,  val loss 0.383078, percent error 9.20\n",
            "Epoch    56, train loss 0.044714, train error 0.95,  val loss 0.374356, percent error 8.80\n",
            "Epoch    57, train loss 0.047613, train error 1.20,  val loss 0.383132, percent error 9.00\n",
            "Epoch    58, train loss 0.048412, train error 1.07,  val loss 0.392928, percent error 9.00\n",
            "Epoch    59, train loss 0.043523, train error 0.82,  val loss 0.387587, percent error 8.50\n",
            "Epoch    60, train loss 0.040025, train error 0.78,  val loss 0.385654, percent error 8.50\n",
            "Epoch    61, train loss 0.038702, train error 0.72,  val loss 0.386493, percent error 8.70\n",
            "Epoch    62, train loss 0.038964, train error 0.78,  val loss 0.390278, percent error 8.60\n",
            "Epoch    63, train loss 0.039024, train error 0.70,  val loss 0.394566, percent error 9.00\n",
            "Epoch    64, train loss 0.039318, train error 0.80,  val loss 0.388237, percent error 8.50\n",
            "Epoch    65, train loss 0.038478, train error 0.65,  val loss 0.401050, percent error 9.20\n",
            "Epoch    66, train loss 0.037442, train error 0.60,  val loss 0.399180, percent error 8.80\n",
            "Epoch    67, train loss 0.036901, train error 0.65,  val loss 0.403730, percent error 8.80\n",
            "Epoch    68, train loss 0.036603, train error 0.55,  val loss 0.407889, percent error 8.70\n",
            "Epoch    69, train loss 0.036499, train error 0.65,  val loss 0.401699, percent error 9.00\n",
            "Epoch    70, train loss 0.034850, train error 0.57,  val loss 0.402017, percent error 8.70\n",
            "Epoch    71, train loss 0.034307, train error 0.53,  val loss 0.405637, percent error 8.80\n",
            "Epoch    72, train loss 0.036184, train error 0.72,  val loss 0.412867, percent error 9.10\n",
            "Epoch    73, train loss 0.033738, train error 0.57,  val loss 0.408960, percent error 8.60\n",
            "Epoch    74, train loss 0.034159, train error 0.53,  val loss 0.412189, percent error 8.80\n",
            "Epoch    75, train loss 0.032988, train error 0.53,  val loss 0.409118, percent error 8.80\n",
            "Epoch    76, train loss 0.033634, train error 0.57,  val loss 0.414266, percent error 8.90\n",
            "Epoch    77, train loss 0.032371, train error 0.55,  val loss 0.414594, percent error 8.70\n",
            "Epoch    78, train loss 0.033206, train error 0.57,  val loss 0.424280, percent error 8.70\n",
            "Epoch    79, train loss 0.032521, train error 0.50,  val loss 0.422467, percent error 9.00\n",
            "Epoch    80, train loss 0.031590, train error 0.43,  val loss 0.420622, percent error 9.00\n",
            "Epoch    81, train loss 0.030913, train error 0.47,  val loss 0.420313, percent error 8.80\n",
            "Epoch    82, train loss 0.031282, train error 0.53,  val loss 0.420535, percent error 9.10\n",
            "Epoch    83, train loss 0.030759, train error 0.47,  val loss 0.420949, percent error 8.80\n",
            "Epoch    84, train loss 0.030921, train error 0.45,  val loss 0.425866, percent error 9.00\n",
            "Epoch    85, train loss 0.030610, train error 0.50,  val loss 0.425490, percent error 8.80\n",
            "Epoch    86, train loss 0.030859, train error 0.47,  val loss 0.425302, percent error 9.40\n",
            "Epoch    87, train loss 0.030646, train error 0.47,  val loss 0.428038, percent error 9.00\n",
            "Epoch    88, train loss 0.029929, train error 0.40,  val loss 0.425315, percent error 8.90\n",
            "Epoch    89, train loss 0.029987, train error 0.40,  val loss 0.427889, percent error 8.80\n",
            "Epoch    90, train loss 0.029518, train error 0.45,  val loss 0.427406, percent error 8.90\n",
            "Epoch    91, train loss 0.030187, train error 0.45,  val loss 0.428079, percent error 8.70\n",
            "Epoch    92, train loss 0.029910, train error 0.43,  val loss 0.427730, percent error 9.10\n",
            "Epoch    93, train loss 0.029095, train error 0.40,  val loss 0.428842, percent error 9.10\n",
            "Epoch    94, train loss 0.029182, train error 0.40,  val loss 0.430331, percent error 8.90\n",
            "Epoch    95, train loss 0.028745, train error 0.40,  val loss 0.431783, percent error 9.30\n",
            "Epoch    96, train loss 0.028638, train error 0.40,  val loss 0.434637, percent error 9.20\n",
            "Epoch    97, train loss 0.028733, train error 0.40,  val loss 0.433568, percent error 9.00\n",
            "Epoch    98, train loss 0.028542, train error 0.40,  val loss 0.434275, percent error 9.10\n",
            "Epoch    99, train loss 0.028202, train error 0.40,  val loss 0.435376, percent error 9.10\n"
          ]
        },
        {
          "output_type": "display_data",
          "data": {
            "text/plain": [
              "<Figure size 640x480 with 1 Axes>"
            ],
            "image/png": "[encoded data removed]"
          },
          "metadata": {}
        }
      ]
    }
  ]
}