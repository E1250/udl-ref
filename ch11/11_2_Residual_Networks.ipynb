{
  "nbformat": 4,
  "nbformat_minor": 0,
  "metadata": {
    "colab": {
      "provenance": [],
      "include_colab_link": true
    },
    "kernelspec": {
      "name": "python3",
      "display_name": "Python 3"
    },
    "language_info": {
      "name": "python"
    }
  },
  "cells": [
    {
      "cell_type": "markdown",
      "metadata": {
        "id": "view-in-github",
        "colab_type": "text"
      },
      "source": [
        "<a href=\"https://colab.research.google.com/github/E1250/udl-ref/blob/main/ch11/11_2_Residual_Networks.ipynb\" target=\"_parent\"><img src=\"https://colab.research.google.com/assets/colab-badge.svg\" alt=\"Open In Colab\"/></a>"
      ]
    },
    {
      "cell_type": "markdown",
      "source": [
        "# **Notebook 11.2: Residual Networks**\n",
        "\n",
        "This notebook adapts the networks for MNIST1D to use residual connections.\n",
        "\n",
        "Work through the cells below, running each cell in turn. In various places you will see the words \"TO DO\". Follow the instructions at these places and make predictions about what is going to happen or write code to complete the functions.\n",
        "\n",
        "Contact me at udlbookmail@gmail.com if you find any mistakes or have any suggestions.\n",
        "\n"
      ],
      "metadata": {
        "id": "t9vk9Elugvmi"
      }
    },
    {
      "cell_type": "code",
      "source": [
        "# Run this if you're in a Colab to install MNIST 1D repository\n",
        "!pip install git+https://github.com/greydanus/mnist1d"
      ],
      "metadata": {
        "id": "D5yLObtZCi9J"
      },
      "execution_count": null,
      "outputs": []
    },
    {
      "cell_type": "code",
      "source": [
        "import numpy as np\n",
        "import os\n",
        "import torch, torch.nn as nn\n",
        "from torch.utils.data import TensorDataset, DataLoader\n",
        "from torch.optim.lr_scheduler import StepLR\n",
        "import matplotlib.pyplot as plt\n",
        "import mnist1d\n",
        "import random"
      ],
      "metadata": {
        "id": "YrXWAH7sUWvU"
      },
      "execution_count": 13,
      "outputs": []
    },
    {
      "cell_type": "code",
      "source": [
        "args = mnist1d.data.get_dataset_args()\n",
        "data = mnist1d.data.get_dataset(args, path='./mnist1d_data.pkl', download=False, regenerate=False)\n",
        "\n",
        "# The training and test input and outputs are in\n",
        "# data['x'], data['y'], data['x_test'], and data['y_test']\n",
        "print(\"Examples in training set: {}\".format(len(data['y'])))\n",
        "print(\"Examples in test set: {}\".format(len(data['y_test'])))\n",
        "print(\"Length of each example: {}\".format(data['x'].shape[-1]))"
      ],
      "metadata": {
        "id": "twI72ZCrCt5z",
        "outputId": "bc1d8387-f8a6-41be-f6cd-0c5a941a8cf8",
        "colab": {
          "base_uri": "https://localhost:8080/"
        }
      },
      "execution_count": 14,
      "outputs": [
        {
          "output_type": "stream",
          "name": "stdout",
          "text": [
            "Successfully loaded data from ./mnist1d_data.pkl\n",
            "Examples in training set: 4000\n",
            "Examples in test set: 1000\n",
            "Length of each example: 40\n"
          ]
        }
      ]
    },
    {
      "cell_type": "code",
      "source": [
        "# Load in the data\n",
        "train_data_x = data['x'].transpose()\n",
        "train_data_y = data['y']\n",
        "val_data_x = data['x_test'].transpose()\n",
        "val_data_y = data['y_test']\n",
        "# Print out sizes\n",
        "print(\"Train data: %d examples (columns), each of which has %d dimensions (rows)\"%((train_data_x.shape[1],train_data_x.shape[0])))\n",
        "print(\"Validation data: %d examples (columns), each of which has %d dimensions (rows)\"%((val_data_x.shape[1],val_data_x.shape[0])))"
      ],
      "metadata": {
        "id": "8bKADvLHbiV5",
        "outputId": "f086f7e0-db48-4bcd-fbfa-c1237b51ada7",
        "colab": {
          "base_uri": "https://localhost:8080/"
        }
      },
      "execution_count": 15,
      "outputs": [
        {
          "output_type": "stream",
          "name": "stdout",
          "text": [
            "Train data: 4000 examples (columns), each of which has 40 dimensions (rows)\n",
            "Validation data: 1000 examples (columns), each of which has 40 dimensions (rows)\n"
          ]
        }
      ]
    },
    {
      "cell_type": "markdown",
      "source": [
        "Define the network"
      ],
      "metadata": {
        "id": "_sFvRDGrl4qe"
      }
    },
    {
      "cell_type": "code",
      "source": [
        "# There are 40 input dimensions and 10 output dimensions for this data\n",
        "# The inputs correspond to the 40 offsets in the MNIST1D template.\n",
        "D_i = 40\n",
        "# The outputs correspond to the 10 digits\n",
        "D_o = 10\n",
        "\n",
        "\n",
        "# We will adapt this model to have residual connections around the linear layers\n",
        "# This is the same model we used in practical 8.1, but we can't use the sequential\n",
        "# class for residual networks (which aren't strictly sequential).  Hence, I've rewritten\n",
        "# it as a model that inherits from a base class\n",
        "\n",
        "class ResidualNetwork(torch.nn.Module):\n",
        "  def __init__(self, input_size, output_size, hidden_size=100):\n",
        "    super(ResidualNetwork, self).__init__()\n",
        "    self.linear1 = nn.Linear(input_size, hidden_size)\n",
        "    self.linear2 = nn.Linear(hidden_size, hidden_size)\n",
        "    self.linear3 = nn.Linear(hidden_size, hidden_size)\n",
        "    self.linear4 = nn.Linear(hidden_size, output_size)\n",
        "    print(\"Initialized MLPBase model with {} parameters\".format(self.count_params()))\n",
        "\n",
        "  def count_params(self):\n",
        "    return sum([p.view(-1).shape[0] for p in self.parameters()])\n",
        "\n",
        "# TODO -- Add residual connections to this model\n",
        "# The order of operations within each block should similar to figure 11.5b\n",
        "# ie., linear1 first, ReLU+linear2 in first residual block, ReLU+linear3 in second residual block), linear4 at end\n",
        "# Replace this function\n",
        "  def forward(self, x):\n",
        "    # First layer (no residual connection here)\n",
        "    h1 = self.linear1(x).relu()\n",
        "\n",
        "    # First residual block\n",
        "    h2 = self.linear2(h1).relu()\n",
        "    h2 = h1 + h2  # Residual connection\n",
        "\n",
        "    # Second residual block\n",
        "    h3 = self.linear3(h2).relu()\n",
        "    h3 = h2 + h3  # Residual connection\n",
        "\n",
        "    # Final output layer\n",
        "    return self.linear4(h3)"
      ],
      "metadata": {
        "id": "c6-pqvl0YMc_"
      },
      "execution_count": 16,
      "outputs": []
    },
    {
      "cell_type": "code",
      "source": [
        "# He initialization of weights\n",
        "def weights_init(layer_in):\n",
        "  if isinstance(layer_in, nn.Linear):\n",
        "    nn.init.kaiming_uniform_(layer_in.weight)\n",
        "    layer_in.bias.data.fill_(0.0)"
      ],
      "metadata": {
        "id": "YgLaex1pfhqz"
      },
      "execution_count": 17,
      "outputs": []
    },
    {
      "cell_type": "code",
      "source": [
        "#Define the model\n",
        "model = ResidualNetwork(40, 10)\n",
        "\n",
        "# choose cross entropy loss function (equation 5.24 in the loss notes)\n",
        "loss_function = nn.CrossEntropyLoss()\n",
        "# construct SGD optimizer and initialize learning rate and momentum\n",
        "optimizer = torch.optim.SGD(model.parameters(), lr = 0.05, momentum=0.9)\n",
        "# object that decreases learning rate by half every 20 epochs\n",
        "scheduler = StepLR(optimizer, step_size=20, gamma=0.5)\n",
        "# convert data to torch tensors\n",
        "x_train = torch.tensor(train_data_x.transpose().astype('float32'))\n",
        "y_train = torch.tensor(train_data_y.astype('long'))\n",
        "x_val= torch.tensor(val_data_x.transpose().astype('float32'))\n",
        "y_val = torch.tensor(val_data_y.astype('long'))\n",
        "\n",
        "# load the data into a class that creates the batches\n",
        "data_loader = DataLoader(TensorDataset(x_train,y_train), batch_size=100, shuffle=True, worker_init_fn=np.random.seed(1))\n",
        "\n",
        "# Initialize model weights\n",
        "model.apply(weights_init)\n",
        "\n",
        "# loop over the dataset n_epoch times\n",
        "n_epoch = 100\n",
        "# store the loss and the % correct at each epoch\n",
        "losses_train = np.zeros((n_epoch))\n",
        "errors_train = np.zeros((n_epoch))\n",
        "losses_val = np.zeros((n_epoch))\n",
        "errors_val = np.zeros((n_epoch))\n",
        "\n",
        "for epoch in range(n_epoch):\n",
        "  # loop over batches\n",
        "  for i, data in enumerate(data_loader):\n",
        "    # retrieve inputs and labels for this batch\n",
        "    x_batch, y_batch = data\n",
        "    # zero the parameter gradients\n",
        "    optimizer.zero_grad()\n",
        "    # forward pass -- calculate model output\n",
        "    pred = model(x_batch)\n",
        "    # compute the loss\n",
        "    loss = loss_function(pred, y_batch)\n",
        "    # backward pass\n",
        "    loss.backward()\n",
        "    # SGD update\n",
        "    optimizer.step()\n",
        "\n",
        "  # Run whole dataset to get statistics -- normally wouldn't do this\n",
        "  pred_train = model(x_train)\n",
        "  pred_val = model(x_val)\n",
        "  _, predicted_train_class = torch.max(pred_train.data, 1)\n",
        "  _, predicted_val_class = torch.max(pred_val.data, 1)\n",
        "  errors_train[epoch] = 100 - 100 * (predicted_train_class == y_train).float().sum() / len(y_train)\n",
        "  errors_val[epoch]= 100 - 100 * (predicted_val_class == y_val).float().sum() / len(y_val)\n",
        "  losses_train[epoch] = loss_function(pred_train, y_train).item()\n",
        "  losses_val[epoch]= loss_function(pred_val, y_val).item()\n",
        "  print(f'Epoch {epoch:5d}, train loss {losses_train[epoch]:.6f}, train error {errors_train[epoch]:3.2f},  val loss {losses_val[epoch]:.6f}, percent error {errors_val[epoch]:3.2f}')\n",
        "\n",
        "  # tell scheduler to consider updating learning rate\n",
        "  scheduler.step()"
      ],
      "metadata": {
        "id": "NYw8I_3mmX5c",
        "outputId": "30b9e094-f55d-439e-95b7-16f54f1242c5",
        "colab": {
          "base_uri": "https://localhost:8080/"
        }
      },
      "execution_count": 18,
      "outputs": [
        {
          "output_type": "stream",
          "name": "stdout",
          "text": [
            "Initialized MLPBase model with 25310 parameters\n",
            "Epoch     0, train loss 1.601375, train error 63.20,  val loss 1.729465, percent error 69.80\n",
            "Epoch     1, train loss 1.378448, train error 52.62,  val loss 1.542066, percent error 60.30\n",
            "Epoch     2, train loss 1.133513, train error 40.90,  val loss 1.355507, percent error 52.20\n",
            "Epoch     3, train loss 0.995695, train error 35.35,  val loss 1.267540, percent error 48.80\n",
            "Epoch     4, train loss 0.901031, train error 33.40,  val loss 1.244902, percent error 48.70\n",
            "Epoch     5, train loss 0.804847, train error 29.68,  val loss 1.165224, percent error 44.60\n",
            "Epoch     6, train loss 0.743000, train error 27.22,  val loss 1.201960, percent error 44.90\n",
            "Epoch     7, train loss 0.636354, train error 22.78,  val loss 1.144196, percent error 42.30\n",
            "Epoch     8, train loss 0.555108, train error 18.53,  val loss 1.079436, percent error 40.60\n",
            "Epoch     9, train loss 0.496056, train error 16.68,  val loss 1.118929, percent error 40.60\n",
            "Epoch    10, train loss 0.494131, train error 17.38,  val loss 1.177358, percent error 40.10\n",
            "Epoch    11, train loss 0.440467, train error 15.53,  val loss 1.135013, percent error 40.30\n",
            "Epoch    12, train loss 0.412447, train error 14.50,  val loss 1.230217, percent error 42.20\n",
            "Epoch    13, train loss 0.342370, train error 11.28,  val loss 1.162928, percent error 38.40\n",
            "Epoch    14, train loss 0.343612, train error 11.93,  val loss 1.310842, percent error 40.60\n",
            "Epoch    15, train loss 0.273484, train error 9.22,  val loss 1.261631, percent error 36.80\n",
            "Epoch    16, train loss 0.203399, train error 6.28,  val loss 1.386406, percent error 39.50\n",
            "Epoch    17, train loss 0.190730, train error 5.95,  val loss 1.374435, percent error 37.70\n",
            "Epoch    18, train loss 0.186159, train error 6.12,  val loss 1.428427, percent error 38.90\n",
            "Epoch    19, train loss 0.145503, train error 4.62,  val loss 1.442236, percent error 38.40\n",
            "Epoch    20, train loss 0.057576, train error 0.47,  val loss 1.345811, percent error 35.10\n",
            "Epoch    21, train loss 0.039981, train error 0.03,  val loss 1.327314, percent error 35.10\n",
            "Epoch    22, train loss 0.031381, train error 0.03,  val loss 1.345304, percent error 35.00\n",
            "Epoch    23, train loss 0.026891, train error 0.00,  val loss 1.393314, percent error 35.00\n",
            "Epoch    24, train loss 0.023470, train error 0.00,  val loss 1.425983, percent error 35.20\n",
            "Epoch    25, train loss 0.020773, train error 0.00,  val loss 1.434848, percent error 35.30\n",
            "Epoch    26, train loss 0.018809, train error 0.00,  val loss 1.457122, percent error 35.00\n",
            "Epoch    27, train loss 0.016997, train error 0.00,  val loss 1.479306, percent error 35.40\n",
            "Epoch    28, train loss 0.015938, train error 0.00,  val loss 1.510620, percent error 36.00\n",
            "Epoch    29, train loss 0.014440, train error 0.00,  val loss 1.514287, percent error 35.90\n",
            "Epoch    30, train loss 0.013429, train error 0.00,  val loss 1.525549, percent error 36.10\n",
            "Epoch    31, train loss 0.012746, train error 0.00,  val loss 1.547727, percent error 35.60\n",
            "Epoch    32, train loss 0.011694, train error 0.00,  val loss 1.555225, percent error 36.00\n",
            "Epoch    33, train loss 0.011015, train error 0.00,  val loss 1.577612, percent error 35.90\n",
            "Epoch    34, train loss 0.010461, train error 0.00,  val loss 1.593212, percent error 36.10\n",
            "Epoch    35, train loss 0.009805, train error 0.00,  val loss 1.600310, percent error 36.40\n",
            "Epoch    36, train loss 0.009303, train error 0.00,  val loss 1.603153, percent error 36.30\n",
            "Epoch    37, train loss 0.008896, train error 0.00,  val loss 1.617879, percent error 36.40\n",
            "Epoch    38, train loss 0.008479, train error 0.00,  val loss 1.639024, percent error 36.50\n",
            "Epoch    39, train loss 0.008062, train error 0.00,  val loss 1.642503, percent error 36.60\n",
            "Epoch    40, train loss 0.007831, train error 0.00,  val loss 1.647662, percent error 36.40\n",
            "Epoch    41, train loss 0.007640, train error 0.00,  val loss 1.653823, percent error 36.50\n",
            "Epoch    42, train loss 0.007485, train error 0.00,  val loss 1.655018, percent error 36.70\n",
            "Epoch    43, train loss 0.007332, train error 0.00,  val loss 1.664034, percent error 36.60\n",
            "Epoch    44, train loss 0.007178, train error 0.00,  val loss 1.665314, percent error 36.40\n",
            "Epoch    45, train loss 0.007031, train error 0.00,  val loss 1.671403, percent error 36.60\n",
            "Epoch    46, train loss 0.006898, train error 0.00,  val loss 1.677137, percent error 36.80\n",
            "Epoch    47, train loss 0.006766, train error 0.00,  val loss 1.682394, percent error 36.60\n",
            "Epoch    48, train loss 0.006638, train error 0.00,  val loss 1.685369, percent error 36.50\n",
            "Epoch    49, train loss 0.006514, train error 0.00,  val loss 1.690341, percent error 36.40\n",
            "Epoch    50, train loss 0.006394, train error 0.00,  val loss 1.692375, percent error 36.50\n",
            "Epoch    51, train loss 0.006278, train error 0.00,  val loss 1.698157, percent error 36.10\n",
            "Epoch    52, train loss 0.006164, train error 0.00,  val loss 1.701301, percent error 36.50\n",
            "Epoch    53, train loss 0.006059, train error 0.00,  val loss 1.708066, percent error 36.10\n",
            "Epoch    54, train loss 0.005952, train error 0.00,  val loss 1.712810, percent error 36.50\n",
            "Epoch    55, train loss 0.005845, train error 0.00,  val loss 1.713560, percent error 36.10\n",
            "Epoch    56, train loss 0.005755, train error 0.00,  val loss 1.719565, percent error 36.60\n",
            "Epoch    57, train loss 0.005661, train error 0.00,  val loss 1.722151, percent error 36.10\n",
            "Epoch    58, train loss 0.005567, train error 0.00,  val loss 1.727503, percent error 36.20\n",
            "Epoch    59, train loss 0.005475, train error 0.00,  val loss 1.732408, percent error 36.30\n",
            "Epoch    60, train loss 0.005427, train error 0.00,  val loss 1.734406, percent error 36.20\n",
            "Epoch    61, train loss 0.005382, train error 0.00,  val loss 1.735692, percent error 36.30\n",
            "Epoch    62, train loss 0.005339, train error 0.00,  val loss 1.736289, percent error 36.30\n",
            "Epoch    63, train loss 0.005298, train error 0.00,  val loss 1.739153, percent error 36.20\n",
            "Epoch    64, train loss 0.005257, train error 0.00,  val loss 1.739443, percent error 36.30\n",
            "Epoch    65, train loss 0.005217, train error 0.00,  val loss 1.742267, percent error 36.20\n",
            "Epoch    66, train loss 0.005179, train error 0.00,  val loss 1.743986, percent error 36.20\n",
            "Epoch    67, train loss 0.005138, train error 0.00,  val loss 1.745263, percent error 36.20\n",
            "Epoch    68, train loss 0.005100, train error 0.00,  val loss 1.747120, percent error 36.40\n",
            "Epoch    69, train loss 0.005061, train error 0.00,  val loss 1.748284, percent error 36.30\n",
            "Epoch    70, train loss 0.005023, train error 0.00,  val loss 1.751167, percent error 36.20\n",
            "Epoch    71, train loss 0.004986, train error 0.00,  val loss 1.753227, percent error 36.30\n",
            "Epoch    72, train loss 0.004950, train error 0.00,  val loss 1.754345, percent error 36.30\n",
            "Epoch    73, train loss 0.004913, train error 0.00,  val loss 1.755976, percent error 36.10\n",
            "Epoch    74, train loss 0.004878, train error 0.00,  val loss 1.758356, percent error 36.10\n",
            "Epoch    75, train loss 0.004843, train error 0.00,  val loss 1.759511, percent error 36.20\n",
            "Epoch    76, train loss 0.004808, train error 0.00,  val loss 1.761398, percent error 36.20\n",
            "Epoch    77, train loss 0.004774, train error 0.00,  val loss 1.763199, percent error 36.20\n",
            "Epoch    78, train loss 0.004739, train error 0.00,  val loss 1.764786, percent error 36.20\n",
            "Epoch    79, train loss 0.004706, train error 0.00,  val loss 1.766376, percent error 36.20\n",
            "Epoch    80, train loss 0.004688, train error 0.00,  val loss 1.767324, percent error 36.10\n",
            "Epoch    81, train loss 0.004672, train error 0.00,  val loss 1.767677, percent error 36.10\n",
            "Epoch    82, train loss 0.004656, train error 0.00,  val loss 1.768650, percent error 36.10\n",
            "Epoch    83, train loss 0.004639, train error 0.00,  val loss 1.769382, percent error 36.10\n",
            "Epoch    84, train loss 0.004623, train error 0.00,  val loss 1.770403, percent error 36.10\n",
            "Epoch    85, train loss 0.004607, train error 0.00,  val loss 1.771293, percent error 36.10\n",
            "Epoch    86, train loss 0.004591, train error 0.00,  val loss 1.771850, percent error 36.10\n",
            "Epoch    87, train loss 0.004575, train error 0.00,  val loss 1.772946, percent error 36.10\n",
            "Epoch    88, train loss 0.004559, train error 0.00,  val loss 1.773522, percent error 36.10\n",
            "Epoch    89, train loss 0.004544, train error 0.00,  val loss 1.774714, percent error 36.10\n",
            "Epoch    90, train loss 0.004528, train error 0.00,  val loss 1.775558, percent error 36.10\n",
            "Epoch    91, train loss 0.004513, train error 0.00,  val loss 1.776080, percent error 36.10\n",
            "Epoch    92, train loss 0.004498, train error 0.00,  val loss 1.776411, percent error 36.10\n",
            "Epoch    93, train loss 0.004483, train error 0.00,  val loss 1.777421, percent error 36.10\n",
            "Epoch    94, train loss 0.004467, train error 0.00,  val loss 1.778744, percent error 36.10\n",
            "Epoch    95, train loss 0.004452, train error 0.00,  val loss 1.779355, percent error 36.10\n",
            "Epoch    96, train loss 0.004437, train error 0.00,  val loss 1.779688, percent error 36.10\n",
            "Epoch    97, train loss 0.004423, train error 0.00,  val loss 1.780880, percent error 36.10\n",
            "Epoch    98, train loss 0.004408, train error 0.00,  val loss 1.781620, percent error 36.10\n",
            "Epoch    99, train loss 0.004393, train error 0.00,  val loss 1.782189, percent error 36.10\n"
          ]
        }
      ]
    },
    {
      "cell_type": "code",
      "source": [
        "# Plot the results\n",
        "fig, ax = plt.subplots()\n",
        "ax.plot(errors_train,'r-',label='train')\n",
        "ax.plot(errors_val,'b-',label='test')\n",
        "ax.set_ylim(0,100); ax.set_xlim(0,n_epoch)\n",
        "ax.set_xlabel('Epoch'); ax.set_ylabel('Error')\n",
        "ax.set_title('TrainError %3.2f, Val Error %3.2f'%(errors_train[-1],errors_val[-1]))\n",
        "ax.legend()\n",
        "plt.show()"
      ],
      "metadata": {
        "id": "CcP_VyEmE2sv",
        "outputId": "ff5e6ba3-f074-4bd7-dd9b-77393cdc27b9",
        "colab": {
          "base_uri": "https://localhost:8080/",
          "height": 472
        }
      },
      "execution_count": 19,
      "outputs": [
        {
          "output_type": "display_data",
          "data": {
            "text/plain": [
              "<Figure size 640x480 with 1 Axes>"
            ],
            "image/png": "[encoded data removed]"
          },
          "metadata": {}
        }
      ]
    },
    {
      "cell_type": "markdown",
      "source": [
        "The primary motivation of residual networks is to allow training of much deeper networks.   \n",
        "\n",
        "TODO: Try running this network with and without the residual connections.  Does adding the residual connections change the performance?"
      ],
      "metadata": {
        "id": "wMmqhmxuAx0M"
      }
    },
    {
      "cell_type": "code",
      "source": [
        "# There are 40 input dimensions and 10 output dimensions for this data\n",
        "# The inputs correspond to the 40 offsets in the MNIST1D template.\n",
        "D_i = 40\n",
        "# The outputs correspond to the 10 digits\n",
        "D_o = 10\n",
        "\n",
        "\n",
        "# We will adapt this model to have residual connections around the linear layers\n",
        "# This is the same model we used in practical 8.1, but we can't use the sequential\n",
        "# class for residual networks (which aren't strictly sequential).  Hence, I've rewritten\n",
        "# it as a model that inherits from a base class\n",
        "\n",
        "class ResidualNetwork(torch.nn.Module):\n",
        "  def __init__(self, input_size, output_size, hidden_size=100):\n",
        "    super(ResidualNetwork, self).__init__()\n",
        "    self.linear1 = nn.Linear(input_size, hidden_size)\n",
        "    self.linear2 = nn.Linear(hidden_size, hidden_size)\n",
        "    self.linear3 = nn.Linear(hidden_size, hidden_size)\n",
        "    self.linear4 = nn.Linear(hidden_size, output_size)\n",
        "    print(\"Initialized MLPBase model with {} parameters\".format(self.count_params()))\n",
        "\n",
        "  def count_params(self):\n",
        "    return sum([p.view(-1).shape[0] for p in self.parameters()])\n",
        "\n",
        "# TODO -- Add residual connections to this model\n",
        "# The order of operations within each block should similar to figure 11.5b\n",
        "# ie., linear1 first, ReLU+linear2 in first residual block, ReLU+linear3 in second residual block), linear4 at end\n",
        "# Replace this function\n",
        "  def forward(self, x):\n",
        "    h1 = self.linear1(x).relu()\n",
        "    h2 = self.linear2(h1).relu()\n",
        "    h3 = self.linear3(h2).relu()\n",
        "    return self.linear4(h3)\n"
      ],
      "metadata": {
        "id": "Njqf2RPYYQ2b"
      },
      "execution_count": 20,
      "outputs": []
    },
    {
      "cell_type": "code",
      "source": [
        "#Define the model\n",
        "model = ResidualNetwork(40, 10)\n",
        "\n",
        "# choose cross entropy loss function (equation 5.24 in the loss notes)\n",
        "loss_function = nn.CrossEntropyLoss()\n",
        "# construct SGD optimizer and initialize learning rate and momentum\n",
        "optimizer = torch.optim.SGD(model.parameters(), lr = 0.05, momentum=0.9)\n",
        "# object that decreases learning rate by half every 20 epochs\n",
        "scheduler = StepLR(optimizer, step_size=20, gamma=0.5)\n",
        "# convert data to torch tensors\n",
        "x_train = torch.tensor(train_data_x.transpose().astype('float32'))\n",
        "y_train = torch.tensor(train_data_y.astype('long'))\n",
        "x_val= torch.tensor(val_data_x.transpose().astype('float32'))\n",
        "y_val = torch.tensor(val_data_y.astype('long'))\n",
        "\n",
        "# load the data into a class that creates the batches\n",
        "data_loader = DataLoader(TensorDataset(x_train,y_train), batch_size=100, shuffle=True, worker_init_fn=np.random.seed(1))\n",
        "\n",
        "# Initialize model weights\n",
        "model.apply(weights_init)\n",
        "\n",
        "# loop over the dataset n_epoch times\n",
        "n_epoch = 100\n",
        "# store the loss and the % correct at each epoch\n",
        "losses_train = np.zeros((n_epoch))\n",
        "errors_train = np.zeros((n_epoch))\n",
        "losses_val = np.zeros((n_epoch))\n",
        "errors_val = np.zeros((n_epoch))\n",
        "\n",
        "for epoch in range(n_epoch):\n",
        "  # loop over batches\n",
        "  for i, data in enumerate(data_loader):\n",
        "    # retrieve inputs and labels for this batch\n",
        "    x_batch, y_batch = data\n",
        "    # zero the parameter gradients\n",
        "    optimizer.zero_grad()\n",
        "    # forward pass -- calculate model output\n",
        "    pred = model(x_batch)\n",
        "    # compute the loss\n",
        "    loss = loss_function(pred, y_batch)\n",
        "    # backward pass\n",
        "    loss.backward()\n",
        "    # SGD update\n",
        "    optimizer.step()\n",
        "\n",
        "  # Run whole dataset to get statistics -- normally wouldn't do this\n",
        "  pred_train = model(x_train)\n",
        "  pred_val = model(x_val)\n",
        "  _, predicted_train_class = torch.max(pred_train.data, 1)\n",
        "  _, predicted_val_class = torch.max(pred_val.data, 1)\n",
        "  errors_train[epoch] = 100 - 100 * (predicted_train_class == y_train).float().sum() / len(y_train)\n",
        "  errors_val[epoch]= 100 - 100 * (predicted_val_class == y_val).float().sum() / len(y_val)\n",
        "  losses_train[epoch] = loss_function(pred_train, y_train).item()\n",
        "  losses_val[epoch]= loss_function(pred_val, y_val).item()\n",
        "  print(f'Epoch {epoch:5d}, train loss {losses_train[epoch]:.6f}, train error {errors_train[epoch]:3.2f},  val loss {losses_val[epoch]:.6f}, percent error {errors_val[epoch]:3.2f}')\n",
        "\n",
        "  # tell scheduler to consider updating learning rate\n",
        "  scheduler.step()"
      ],
      "metadata": {
        "id": "bWTYG3oLYTCz",
        "outputId": "c3329154-cd45-45e1-b809-66a836ef49f8",
        "colab": {
          "base_uri": "https://localhost:8080/"
        }
      },
      "execution_count": 21,
      "outputs": [
        {
          "output_type": "stream",
          "name": "stdout",
          "text": [
            "Initialized MLPBase model with 25310 parameters\n",
            "Epoch     0, train loss 1.591416, train error 62.00,  val loss 1.663823, percent error 69.00\n",
            "Epoch     1, train loss 1.294790, train error 47.53,  val loss 1.460046, percent error 56.90\n",
            "Epoch     2, train loss 1.151351, train error 42.12,  val loss 1.369506, percent error 54.30\n",
            "Epoch     3, train loss 0.988095, train error 36.58,  val loss 1.320930, percent error 49.30\n",
            "Epoch     4, train loss 0.837739, train error 28.30,  val loss 1.213811, percent error 45.70\n",
            "Epoch     5, train loss 0.717891, train error 25.25,  val loss 1.234870, percent error 47.70\n",
            "Epoch     6, train loss 0.620871, train error 21.45,  val loss 1.210518, percent error 43.70\n",
            "Epoch     7, train loss 0.511620, train error 17.07,  val loss 1.198493, percent error 41.90\n",
            "Epoch     8, train loss 0.465878, train error 16.15,  val loss 1.274076, percent error 42.20\n",
            "Epoch     9, train loss 0.361323, train error 11.75,  val loss 1.234321, percent error 40.20\n",
            "Epoch    10, train loss 0.351955, train error 12.20,  val loss 1.365501, percent error 42.70\n",
            "Epoch    11, train loss 0.324702, train error 11.12,  val loss 1.329966, percent error 39.50\n",
            "Epoch    12, train loss 0.293441, train error 9.88,  val loss 1.509560, percent error 40.20\n",
            "Epoch    13, train loss 0.204167, train error 6.60,  val loss 1.355165, percent error 38.10\n",
            "Epoch    14, train loss 0.276833, train error 9.72,  val loss 1.611589, percent error 40.20\n",
            "Epoch    15, train loss 0.131799, train error 3.88,  val loss 1.437063, percent error 36.30\n",
            "Epoch    16, train loss 0.101101, train error 2.80,  val loss 1.451824, percent error 33.80\n",
            "Epoch    17, train loss 0.155730, train error 5.35,  val loss 1.575118, percent error 37.10\n",
            "Epoch    18, train loss 0.139943, train error 4.68,  val loss 1.600477, percent error 37.10\n",
            "Epoch    19, train loss 0.105585, train error 3.35,  val loss 1.636736, percent error 38.50\n",
            "Epoch    20, train loss 0.031638, train error 0.40,  val loss 1.556184, percent error 35.00\n",
            "Epoch    21, train loss 0.015844, train error 0.03,  val loss 1.513473, percent error 34.60\n",
            "Epoch    22, train loss 0.010763, train error 0.00,  val loss 1.564021, percent error 34.80\n",
            "Epoch    23, train loss 0.008563, train error 0.00,  val loss 1.586059, percent error 34.50\n",
            "Epoch    24, train loss 0.007453, train error 0.00,  val loss 1.611672, percent error 34.20\n",
            "Epoch    25, train loss 0.006550, train error 0.00,  val loss 1.635659, percent error 34.30\n",
            "Epoch    26, train loss 0.005963, train error 0.00,  val loss 1.650258, percent error 34.60\n",
            "Epoch    27, train loss 0.005330, train error 0.00,  val loss 1.666829, percent error 34.70\n",
            "Epoch    28, train loss 0.004900, train error 0.00,  val loss 1.685751, percent error 34.50\n",
            "Epoch    29, train loss 0.004559, train error 0.00,  val loss 1.693531, percent error 34.40\n",
            "Epoch    30, train loss 0.004229, train error 0.00,  val loss 1.709738, percent error 34.20\n",
            "Epoch    31, train loss 0.003967, train error 0.00,  val loss 1.726908, percent error 34.10\n",
            "Epoch    32, train loss 0.003734, train error 0.00,  val loss 1.736453, percent error 34.40\n",
            "Epoch    33, train loss 0.003531, train error 0.00,  val loss 1.749874, percent error 34.20\n",
            "Epoch    34, train loss 0.003345, train error 0.00,  val loss 1.759369, percent error 34.10\n",
            "Epoch    35, train loss 0.003188, train error 0.00,  val loss 1.769735, percent error 34.30\n",
            "Epoch    36, train loss 0.003034, train error 0.00,  val loss 1.780065, percent error 34.20\n",
            "Epoch    37, train loss 0.002901, train error 0.00,  val loss 1.790015, percent error 34.20\n",
            "Epoch    38, train loss 0.002776, train error 0.00,  val loss 1.800780, percent error 34.30\n",
            "Epoch    39, train loss 0.002662, train error 0.00,  val loss 1.808722, percent error 34.50\n",
            "Epoch    40, train loss 0.002606, train error 0.00,  val loss 1.813664, percent error 34.20\n",
            "Epoch    41, train loss 0.002555, train error 0.00,  val loss 1.817252, percent error 34.20\n",
            "Epoch    42, train loss 0.002507, train error 0.00,  val loss 1.822075, percent error 34.20\n",
            "Epoch    43, train loss 0.002459, train error 0.00,  val loss 1.827989, percent error 34.40\n",
            "Epoch    44, train loss 0.002414, train error 0.00,  val loss 1.830857, percent error 34.30\n",
            "Epoch    45, train loss 0.002371, train error 0.00,  val loss 1.835344, percent error 34.20\n",
            "Epoch    46, train loss 0.002330, train error 0.00,  val loss 1.839561, percent error 34.10\n",
            "Epoch    47, train loss 0.002288, train error 0.00,  val loss 1.843009, percent error 33.90\n",
            "Epoch    48, train loss 0.002250, train error 0.00,  val loss 1.845845, percent error 34.00\n",
            "Epoch    49, train loss 0.002212, train error 0.00,  val loss 1.850734, percent error 34.20\n",
            "Epoch    50, train loss 0.002176, train error 0.00,  val loss 1.853353, percent error 34.10\n",
            "Epoch    51, train loss 0.002140, train error 0.00,  val loss 1.857074, percent error 34.10\n",
            "Epoch    52, train loss 0.002105, train error 0.00,  val loss 1.861918, percent error 34.10\n",
            "Epoch    53, train loss 0.002073, train error 0.00,  val loss 1.866162, percent error 34.00\n",
            "Epoch    54, train loss 0.002041, train error 0.00,  val loss 1.869016, percent error 34.10\n",
            "Epoch    55, train loss 0.002009, train error 0.00,  val loss 1.874017, percent error 34.00\n",
            "Epoch    56, train loss 0.001978, train error 0.00,  val loss 1.875905, percent error 34.00\n",
            "Epoch    57, train loss 0.001949, train error 0.00,  val loss 1.879643, percent error 34.00\n",
            "Epoch    58, train loss 0.001921, train error 0.00,  val loss 1.882853, percent error 34.00\n",
            "Epoch    59, train loss 0.001893, train error 0.00,  val loss 1.885759, percent error 34.20\n",
            "Epoch    60, train loss 0.001879, train error 0.00,  val loss 1.887298, percent error 34.00\n",
            "Epoch    61, train loss 0.001865, train error 0.00,  val loss 1.889431, percent error 34.00\n",
            "Epoch    62, train loss 0.001852, train error 0.00,  val loss 1.890779, percent error 34.00\n",
            "Epoch    63, train loss 0.001839, train error 0.00,  val loss 1.892368, percent error 33.90\n",
            "Epoch    64, train loss 0.001827, train error 0.00,  val loss 1.894251, percent error 33.90\n",
            "Epoch    65, train loss 0.001814, train error 0.00,  val loss 1.896407, percent error 33.90\n",
            "Epoch    66, train loss 0.001801, train error 0.00,  val loss 1.897591, percent error 33.90\n",
            "Epoch    67, train loss 0.001789, train error 0.00,  val loss 1.899441, percent error 33.80\n",
            "Epoch    68, train loss 0.001777, train error 0.00,  val loss 1.899871, percent error 34.00\n",
            "Epoch    69, train loss 0.001765, train error 0.00,  val loss 1.902255, percent error 33.90\n",
            "Epoch    70, train loss 0.001753, train error 0.00,  val loss 1.903681, percent error 33.70\n",
            "Epoch    71, train loss 0.001742, train error 0.00,  val loss 1.905355, percent error 33.80\n",
            "Epoch    72, train loss 0.001730, train error 0.00,  val loss 1.906828, percent error 33.80\n",
            "Epoch    73, train loss 0.001719, train error 0.00,  val loss 1.908162, percent error 33.80\n",
            "Epoch    74, train loss 0.001707, train error 0.00,  val loss 1.909478, percent error 33.80\n",
            "Epoch    75, train loss 0.001696, train error 0.00,  val loss 1.911726, percent error 33.80\n",
            "Epoch    76, train loss 0.001686, train error 0.00,  val loss 1.913280, percent error 33.80\n",
            "Epoch    77, train loss 0.001675, train error 0.00,  val loss 1.913742, percent error 33.90\n",
            "Epoch    78, train loss 0.001664, train error 0.00,  val loss 1.916500, percent error 33.80\n",
            "Epoch    79, train loss 0.001653, train error 0.00,  val loss 1.917296, percent error 33.80\n",
            "Epoch    80, train loss 0.001648, train error 0.00,  val loss 1.917829, percent error 33.90\n",
            "Epoch    81, train loss 0.001643, train error 0.00,  val loss 1.918914, percent error 33.90\n",
            "Epoch    82, train loss 0.001638, train error 0.00,  val loss 1.919689, percent error 33.80\n",
            "Epoch    83, train loss 0.001633, train error 0.00,  val loss 1.920304, percent error 33.80\n",
            "Epoch    84, train loss 0.001627, train error 0.00,  val loss 1.921348, percent error 33.80\n",
            "Epoch    85, train loss 0.001622, train error 0.00,  val loss 1.921968, percent error 33.90\n",
            "Epoch    86, train loss 0.001617, train error 0.00,  val loss 1.922473, percent error 33.80\n",
            "Epoch    87, train loss 0.001612, train error 0.00,  val loss 1.923461, percent error 33.80\n",
            "Epoch    88, train loss 0.001607, train error 0.00,  val loss 1.924014, percent error 33.90\n",
            "Epoch    89, train loss 0.001603, train error 0.00,  val loss 1.924758, percent error 33.80\n",
            "Epoch    90, train loss 0.001598, train error 0.00,  val loss 1.925299, percent error 33.90\n",
            "Epoch    91, train loss 0.001593, train error 0.00,  val loss 1.926337, percent error 33.80\n",
            "Epoch    92, train loss 0.001588, train error 0.00,  val loss 1.926526, percent error 33.80\n",
            "Epoch    93, train loss 0.001583, train error 0.00,  val loss 1.927475, percent error 33.80\n",
            "Epoch    94, train loss 0.001578, train error 0.00,  val loss 1.928419, percent error 33.80\n",
            "Epoch    95, train loss 0.001574, train error 0.00,  val loss 1.928849, percent error 33.80\n",
            "Epoch    96, train loss 0.001569, train error 0.00,  val loss 1.929826, percent error 33.80\n",
            "Epoch    97, train loss 0.001564, train error 0.00,  val loss 1.930160, percent error 33.80\n",
            "Epoch    98, train loss 0.001560, train error 0.00,  val loss 1.931118, percent error 33.80\n",
            "Epoch    99, train loss 0.001555, train error 0.00,  val loss 1.931886, percent error 33.80\n"
          ]
        }
      ]
    },
    {
      "cell_type": "code",
      "source": [
        "# Plot the results\n",
        "fig, ax = plt.subplots()\n",
        "ax.plot(errors_train,'r-',label='train')\n",
        "ax.plot(errors_val,'b-',label='test')\n",
        "ax.set_ylim(0,100); ax.set_xlim(0,n_epoch)\n",
        "ax.set_xlabel('Epoch'); ax.set_ylabel('Error')\n",
        "ax.set_title('TrainError %3.2f, Val Error %3.2f'%(errors_train[-1],errors_val[-1]))\n",
        "ax.legend()\n",
        "plt.show()"
      ],
      "metadata": {
        "id": "F-KWfxaLYU5c",
        "outputId": "50a4589f-983e-4fee-d1d8-fe98fc5df487",
        "colab": {
          "base_uri": "https://localhost:8080/",
          "height": 472
        }
      },
      "execution_count": 22,
      "outputs": [
        {
          "output_type": "display_data",
          "data": {
            "text/plain": [
              "<Figure size 640x480 with 1 Axes>"
            ],
            "image/png": "[encoded data removed]"
          },
          "metadata": {}
        }
      ]
    },
    {
      "cell_type": "markdown",
      "source": [
        "With Residual Connections\n",
        "\n",
        "![image.png](data:image/png;base64,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)"
      ],
      "metadata": {
        "id": "56lxJ25VYdSV"
      }
    },
    {
      "cell_type": "markdown",
      "source": [
        "Yeah i see a little change in the chart and better loss rate(lower)."
      ],
      "metadata": {
        "id": "w8351HrjYjA0"
      }
    }
  ]
}